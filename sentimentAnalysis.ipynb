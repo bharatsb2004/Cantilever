{
 "cells": [
  {
   "cell_type": "code",
   "execution_count": 1,
   "id": "1a789846",
   "metadata": {},
   "outputs": [],
   "source": [
    "#importing basic lib and loading train data\n",
    "import pandas \n",
    "import numpy \n",
    "train_data = pandas.read_csv(\"train.csv\")\n",
    "test_data = pandas.read_csv(\"test.csv\")\n",
    "validate_data = pandas.read_csv(\"valid.csv\")"
   ]
  },
  {
   "cell_type": "code",
   "execution_count": 2,
   "id": "8c4a38fd",
   "metadata": {},
   "outputs": [],
   "source": [
    "pandas.options.display.max_colwidth = 2000"
   ]
  },
  {
   "cell_type": "code",
   "execution_count": 3,
   "id": "7b1b16d2",
   "metadata": {},
   "outputs": [
    {
     "name": "stdout",
     "output_type": "stream",
     "text": [
      "                                                                                                                                                                                                                                                                                                                                                                                                                                                                                                                                                                                                                                                                                                                                                                                                                                                                                                         text  \\\n",
      "0  I grew up (b. 1965) watching and loving the Thunderbirds. All my mates at school watched. We played \"Thunderbirds\" before school, during lunch and after school. We all wanted to be Virgil or Scott. No one wanted to be Alan. Counting down from 5 became an art form. I took my children to see the movie hoping they would get a glimpse of what I loved as a child. How bitterly disappointing. The only high point was the snappy theme tune. Not that it could compare with the original score of the Thunderbirds. Thankfully early Saturday mornings one television channel still plays reruns of the series Gerry Anderson and his wife created. Jonatha Frakes should hand in his directors chair, his version was completely hopeless. A waste of film. Utter rubbish. A CGI remake may be acceptable but replacing marionettes with Homo sapiens subsp. sapiens was a huge error of judgment.   \n",
      "\n",
      "   label  \n",
      "0      0  \n",
      "                                                                                                                                                                                                                                                                                                                                                                                                                                                                                                                                                                                                                                                                                                                                                                                                                                                                                                                                                                                                                                                                                                                                                                                                                                                                                                                                                                                                                                                                                                                                                                                                                                                                                                                                                                                                                                                                                                                                                                                                                                                                              text  \\\n",
      "0  I always wrote this series off as being a complete stink-fest because Jim Belushi was involved in it, and heavily. But then one day a tragic happenstance occurred. After a White Sox game ended I realized that the remote was all the way on the other side of the room somehow. Now I could have just gotten up and walked across the room to get the remote, or even to the TV to turn the channel. But then why not just get up and walk across the country to watch TV in another state? \"Nuts to that\", I said. So I decided to just hang tight on the couch and take whatever Fate had in store for me. What Fate had in store was an episode of this show, an episode about which I remember very little except that I had once again made a very broad, general sweeping blanket judgment based on zero objective or experiential evidence with nothing whatsoever to back my opinions up with, and once again I was completely right! This show is a total crud-pie! Belushi has all the comedic delivery of a hairy lighthouse foghorn. The women are physically attractive but too Stepford-is to elicit any real feeling from the viewer. There is absolutely no reason to stop yourself from running down to the local TV station with a can of gasoline and a flamethrower and sending every copy of this mutt howling back to hell. <br /><br />Except.. <br /><br />Except for the wonderful comic sty lings of Larry Joe Campbell, America's Greatest Comic Character Actor. This guy plays Belushi's brother-in-law, Andy, and he is gold. How good is he really? Well, aside from being funny, his job is to make Belushi look good. That's like trying to make butt warts look good. But Campbell pulls it off with style. Someone should invent a Nobel Prize in Comic Buffoonery so he can win it every year. Without Larry Joe this show would consist of a slightly vacant looking Courtney Thorne-Smith smacking Belushi over the head with a frying pan while he alternately beats his chest and plays with the straw on the floor of his cage. ...   \n",
      "\n",
      "   label  \n",
      "0      0  \n",
      "                                                                                                                                                                                                                                                                                                                                                                                                                                                                                                                                                                                                                                                                                                                                                                                                                                                                                                                                                                                                                                                                                                                                                                                                                                                                                                                                                                                                                                                                                                                                                                                                                                                                                                                                                                                                                                                                                                                                                                                                                                                                              text  \\\n",
      "0  It's been about 14 years since Sharon Stone awarded viewers a leg-crossing that twisted many people's minds. And now, God knows why, she's in the game again. \"Basic Instinct 2\" is the sequel to the smash-hit erotica \"Basic Instinct\" featuring a sexy Stone and a vulnerable Michael Douglas. However, fans of the original might not even get close to this one, since \"Instinct 2\" is painful film-making, as the mediocre director Michael Caton-Jones assassinates the legacy of the first film.<br /><br />The plot of the movie starts when a car explosion breaks in right at the beginning. Catherine Tramell (Sharon Stone, trying to look forcefully sexy) is a suspect and appears to be involved in the murder. A psychiatrist (a horrible David Morrisey) is appointed to examine her, but eventually falls for an intimate game of seduction.<br /><br />And there it is, without no further explanations, the basic force that moves this \"Instinct\". Nothing much is explained and we have to sit through a sleazy, C-class erotic film. Sharon Stone stars in her first role where she is most of the time a turn-off. Part of it because of the amateurish writing, the careless direction, and terrifyingly low chemistry. The movie is full of vulgar dialogues and even more sexuality (a menage a trois scene was cut off so that this wouldn't be rated NC-17) than the first entrance in the series. \"Instinct\" is a compelling torture.<br /><br />To top it off, everything that made the original film a guilty pleasure is not found anywhere in the film. The acting here is really bad. Sharon Stone has some highlights, but here, she gets extremely obnoxious. David Morrisey stars in the worst role of his life, and seems to never make more than two expressions in the movie- confused and aroused. \"Instinct 2\" is a horrible way to continue an otherwise original series, that managed to put in thriller with erotica extremely well. Paul Verhoeven, how I miss you....<br /><br />\"Basic Instinct 2\" never sounded like a go...   \n",
      "\n",
      "   label  \n",
      "0      0  \n"
     ]
    }
   ],
   "source": [
    "# looking into the data\n",
    "lst1 = train_data.head(1)\n",
    "lst2 = test_data.head(1)\n",
    "lst3 = validate_data.head(1)\n",
    "print(lst1)\n",
    "print(lst2)\n",
    "print(lst3)"
   ]
  },
  {
   "cell_type": "markdown",
   "id": "ae06bdc9",
   "metadata": {},
   "source": [
    "#### now we know that the data has all sort of words with lowecase uppercase words punctuators everthing so we will handle all that"
   ]
  },
  {
   "cell_type": "code",
   "execution_count": 4,
   "id": "f8ab6413",
   "metadata": {},
   "outputs": [],
   "source": [
    "pandas.options.display.max_colwidth = 50"
   ]
  },
  {
   "cell_type": "code",
   "execution_count": 5,
   "id": "cfe9cf42",
   "metadata": {
    "scrolled": true
   },
   "outputs": [
    {
     "data": {
      "text/html": [
       "<div>\n",
       "<style scoped>\n",
       "    .dataframe tbody tr th:only-of-type {\n",
       "        vertical-align: middle;\n",
       "    }\n",
       "\n",
       "    .dataframe tbody tr th {\n",
       "        vertical-align: top;\n",
       "    }\n",
       "\n",
       "    .dataframe thead th {\n",
       "        text-align: right;\n",
       "    }\n",
       "</style>\n",
       "<table border=\"1\" class=\"dataframe\">\n",
       "  <thead>\n",
       "    <tr style=\"text-align: right;\">\n",
       "      <th></th>\n",
       "      <th>text</th>\n",
       "      <th>label</th>\n",
       "    </tr>\n",
       "  </thead>\n",
       "  <tbody>\n",
       "    <tr>\n",
       "      <th>0</th>\n",
       "      <td>I grew up (b. 1965) watching and loving the Th...</td>\n",
       "      <td>0</td>\n",
       "    </tr>\n",
       "    <tr>\n",
       "      <th>1</th>\n",
       "      <td>When I put this movie in my DVD player, and sa...</td>\n",
       "      <td>0</td>\n",
       "    </tr>\n",
       "    <tr>\n",
       "      <th>2</th>\n",
       "      <td>Why do people who do not know what a particula...</td>\n",
       "      <td>0</td>\n",
       "    </tr>\n",
       "    <tr>\n",
       "      <th>3</th>\n",
       "      <td>Even though I have great interest in Biblical ...</td>\n",
       "      <td>0</td>\n",
       "    </tr>\n",
       "    <tr>\n",
       "      <th>4</th>\n",
       "      <td>Im a die hard Dads Army fan and nothing will e...</td>\n",
       "      <td>1</td>\n",
       "    </tr>\n",
       "  </tbody>\n",
       "</table>\n",
       "</div>"
      ],
      "text/plain": [
       "                                                text  label\n",
       "0  I grew up (b. 1965) watching and loving the Th...      0\n",
       "1  When I put this movie in my DVD player, and sa...      0\n",
       "2  Why do people who do not know what a particula...      0\n",
       "3  Even though I have great interest in Biblical ...      0\n",
       "4  Im a die hard Dads Army fan and nothing will e...      1"
      ]
     },
     "execution_count": 5,
     "metadata": {},
     "output_type": "execute_result"
    }
   ],
   "source": [
    "train_data.head()"
   ]
  },
  {
   "cell_type": "code",
   "execution_count": 6,
   "id": "62b278a3",
   "metadata": {},
   "outputs": [
    {
     "name": "stdout",
     "output_type": "stream",
     "text": [
      "(40000, 2)\n",
      "(5000, 2)\n",
      "(5000, 2)\n"
     ]
    }
   ],
   "source": [
    "print(train_data.shape)\n",
    "print(test_data.shape)\n",
    "print(validate_data.shape)"
   ]
  },
  {
   "cell_type": "code",
   "execution_count": 7,
   "id": "62ed4f52",
   "metadata": {},
   "outputs": [
    {
     "data": {
      "text/plain": [
       "0    20019\n",
       "1    19981\n",
       "Name: label, dtype: int64"
      ]
     },
     "execution_count": 7,
     "metadata": {},
     "output_type": "execute_result"
    }
   ],
   "source": [
    "train_data['label'].value_counts()"
   ]
  },
  {
   "cell_type": "code",
   "execution_count": 8,
   "id": "82166853",
   "metadata": {},
   "outputs": [],
   "source": [
    "majority= train_data[train_data['label']==0]\n",
    "minority= train_data[train_data['label']==1]\n",
    "reduced_majority = majority.sample(len(minority))\n",
    "balance_data = pandas.concat([reduced_majority,minority])\n",
    "balance_data = balance_data.sample(frac=1).reset_index(drop = True)\n",
    "balance_data.to_csv('undersampled_train.csv',index=False)\n",
    "reloaded_data_train = pandas.read_csv('undersampled_train.csv')"
   ]
  },
  {
   "cell_type": "code",
   "execution_count": 9,
   "id": "a704e6c1",
   "metadata": {
    "scrolled": true
   },
   "outputs": [
    {
     "data": {
      "text/plain": [
       "1    19981\n",
       "0    19981\n",
       "Name: label, dtype: int64"
      ]
     },
     "execution_count": 9,
     "metadata": {},
     "output_type": "execute_result"
    }
   ],
   "source": [
    "reloaded_data_train['label'].value_counts()"
   ]
  },
  {
   "cell_type": "code",
   "execution_count": 10,
   "id": "6745087c",
   "metadata": {},
   "outputs": [
    {
     "data": {
      "text/plain": [
       "'Twenty five years ago, I showed this film in some children\\'s classes in Entomology and can still remember the excitement of the kids; they were spellbound! It is not just about the termites who have built and live in the \"Castles of Clay,\" but also about the other animals who use the mounds. There is a fantastic scene in which a cobra fights a monitor lizard while a colony of mongooses watch. It is a not only good for entomology classes, but also for teaching about ecology since there is so much about the interactions between the termites and other organisms and the whole ecology of all of the organisms that live in and around the mounds. <br /><br />I wish it was available on DVD, so that I could watch it again and show others.'"
      ]
     },
     "execution_count": 10,
     "metadata": {},
     "output_type": "execute_result"
    }
   ],
   "source": [
    "reloaded_data_train['text'][0]"
   ]
  },
  {
   "cell_type": "code",
   "execution_count": 11,
   "id": "7795c970",
   "metadata": {},
   "outputs": [],
   "source": [
    "# first we will preprocess data and remove all the punctuators\n",
    "import string\n",
    "from nltk.corpus import stopwords\n",
    "punctuators = list(string.punctuation)\n",
    "stop = stopwords.words('english')\n",
    "all_stop = stop + punctuators \n",
    "filtered_sentence_train = []\n",
    "for sentence in reloaded_data_train['text']:\n",
    "    words = sentence.split()\n",
    "    filtered_words = [word for word in words if word.lower() not in all_stop]\n",
    "    filtered_sentence_train.append(' '.join(filtered_words))"
   ]
  },
  {
   "cell_type": "code",
   "execution_count": 12,
   "id": "0d86790a",
   "metadata": {},
   "outputs": [],
   "source": [
    "# as the data is still not clean\n",
    "import re\n",
    "def clean_word(word):\n",
    "    return re.sub(r'\\W+$', '', word)"
   ]
  },
  {
   "cell_type": "code",
   "execution_count": 13,
   "id": "387a2899",
   "metadata": {},
   "outputs": [],
   "source": [
    "from nltk.tokenize import sent_tokenize, word_tokenize\n",
    "filtered_sentence_train = []\n",
    "for sentence in reloaded_data_train['text']:\n",
    "    sentence =  re.sub(r'\\bbr\\b', '', sentence)\n",
    "    words = word_tokenize(sentence)\n",
    "    cleaned_words = [clean_word(word) for word in words] \n",
    "    filtered_words = [word for word in cleaned_words if word.lower() not in all_stop]\n",
    "    filtered_sentence_train.append(' '.join(filtered_words))"
   ]
  },
  {
   "cell_type": "code",
   "execution_count": 14,
   "id": "cadbd250",
   "metadata": {},
   "outputs": [
    {
     "data": {
      "text/plain": [
       "[\"Twenty five years ago  showed film children 's classes Entomology still remember excitement kids  spellbound  termites built live  Castles Clay   also animals use mounds  fantastic scene cobra fights monitor lizard colony mongooses watch  good entomology classes  also teaching ecology since much interactions termites organisms whole ecology organisms live around mounds        wish available DVD  could watch show others \",\n",
       " \"really liked film.it features John Wayne first starring performance.even  tell Wayne real presence  although would n't really mature icon known Stagecoach,9 years later 1939.it 's settlers country heading new west colonize it.Wayne 's character Breck Coleman joins  personal reasons.most main actors stage actors never done film  makes movie even amazing.they managed create believable  distinctive characters quite oddball mix here.Cimarron would come year later  similar story  though n't like much movie.for  Big Trail strong 8/10 \",\n",
       " \"found film bit depressing  n't mind dramas  bit much  Luckily  seem somewhat decent outcome  suppose well done  'd watch  's nothing rave \"]"
      ]
     },
     "execution_count": 14,
     "metadata": {},
     "output_type": "execute_result"
    }
   ],
   "source": [
    "#lookint at the data now\n",
    "filtered_sentence_train[0:3]"
   ]
  },
  {
   "cell_type": "code",
   "execution_count": 15,
   "id": "362272b3",
   "metadata": {},
   "outputs": [
    {
     "data": {
      "text/plain": [
       "1    2514\n",
       "0    2486\n",
       "Name: label, dtype: int64"
      ]
     },
     "execution_count": 15,
     "metadata": {},
     "output_type": "execute_result"
    }
   ],
   "source": [
    "#loading and preprocessing validation file we can also create a function for this but here ill do directly\n",
    "validate_data['label'].value_counts()"
   ]
  },
  {
   "cell_type": "code",
   "execution_count": 16,
   "id": "ba088444",
   "metadata": {},
   "outputs": [],
   "source": [
    "#we can create a function but ill do directly\n",
    "majority= validate_data[validate_data['label']==1]\n",
    "minority= validate_data[validate_data['label']==0]\n",
    "reduced_majority = majority.sample(len(minority))\n",
    "balance_data = pandas.concat([reduced_majority,minority])\n",
    "balance_data = balance_data.sample(frac=1).reset_index(drop = True)\n",
    "balance_data.to_csv('undersampled_validate.csv',index=False)\n",
    "reloaded_data_valid = pandas.read_csv('undersampled_validate.csv')"
   ]
  },
  {
   "cell_type": "code",
   "execution_count": 17,
   "id": "e50dd78b",
   "metadata": {},
   "outputs": [
    {
     "data": {
      "text/plain": [
       "1    2486\n",
       "0    2486\n",
       "Name: label, dtype: int64"
      ]
     },
     "execution_count": 17,
     "metadata": {},
     "output_type": "execute_result"
    }
   ],
   "source": [
    "#now data is fine\n",
    "reloaded_data_valid['label'].value_counts()"
   ]
  },
  {
   "cell_type": "code",
   "execution_count": 18,
   "id": "c0672122",
   "metadata": {},
   "outputs": [],
   "source": [
    "filtered_sentence_valid= []\n",
    "for sentence in reloaded_data_valid['text']:\n",
    "    sentence =  re.sub(r'\\bbr\\b', '', sentence)\n",
    "    words = word_tokenize(sentence)\n",
    "    cleaned_words = [clean_word(word) for word in words] \n",
    "    filtered_words = [word for word in cleaned_words if word.lower() not in all_stop]\n",
    "    filtered_sentence_valid.append(' '.join(filtered_words))"
   ]
  },
  {
   "cell_type": "code",
   "execution_count": 19,
   "id": "54fcc53e",
   "metadata": {},
   "outputs": [
    {
     "name": "stdout",
     "output_type": "stream",
     "text": [
      "39962\n",
      "39962\n",
      "4972\n",
      "4972\n"
     ]
    }
   ],
   "source": [
    "#the data is consistent now\n",
    "print(len(reloaded_data_train['label']))\n",
    "print(len(filtered_sentence_train))\n",
    "print(len(reloaded_data_valid['label']))\n",
    "print(len(filtered_sentence_valid))"
   ]
  },
  {
   "cell_type": "code",
   "execution_count": 20,
   "id": "c38a19fa",
   "metadata": {},
   "outputs": [],
   "source": [
    "#oading the undersampled data and now we will implement svm on the filtered data\n",
    "from sklearn.feature_extraction.text import TfidfVectorizer\n",
    "from sklearn.svm import SVC\n",
    "from sklearn.metrics import accuracy_score, classification_report\n",
    "vectorizer = TfidfVectorizer()\n",
    "X_train =  vectorizer.fit_transform(filtered_sentence_train)\n",
    "Y_train = reloaded_data_train['label']"
   ]
  },
  {
   "cell_type": "code",
   "execution_count": 21,
   "id": "7ba0c7ea",
   "metadata": {},
   "outputs": [],
   "source": [
    "X_valid = vectorizer.transform(filtered_sentence_valid)\n",
    "Y_valid = reloaded_data_valid['label']"
   ]
  },
  {
   "cell_type": "code",
   "execution_count": null,
   "id": "7d167e7e",
   "metadata": {},
   "outputs": [],
   "source": [
    "#training the svm model\n",
    "svm_model = SVC()\n",
    "svm_model.fit(X_train, Y_train)\n",
    "Y_pred = svm_model.predict(X_valid)\n",
    "# Evaluating the model\n",
    "accuracy = accuracy_score(Y_valid, Y_pred)\n",
    "report = classification_report(Y_valid, Y_pred)\n",
    "print(\"Accuracy:\", accuracy)\n",
    "print(\"Classification Report:\",report)"
   ]
  }
 ],
 "metadata": {
  "kernelspec": {
   "display_name": "Python 3 (ipykernel)",
   "language": "python",
   "name": "python3"
  },
  "language_info": {
   "codemirror_mode": {
    "name": "ipython",
    "version": 3
   },
   "file_extension": ".py",
   "mimetype": "text/x-python",
   "name": "python",
   "nbconvert_exporter": "python",
   "pygments_lexer": "ipython3",
   "version": "3.9.13"
  }
 },
 "nbformat": 4,
 "nbformat_minor": 5
}
